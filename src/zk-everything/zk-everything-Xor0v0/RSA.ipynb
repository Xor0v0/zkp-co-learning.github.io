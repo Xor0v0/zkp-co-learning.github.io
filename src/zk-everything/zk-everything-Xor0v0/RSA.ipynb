{
 "cells": [
  {
   "cell_type": "markdown",
   "metadata": {},
   "source": [
    "# RSA：惊艳\n",
    "\n",
    "## 1. Simple RSA\n",
    "Given $N = p * q$, r, s"
   ]
  },
  {
   "cell_type": "code",
   "execution_count": null,
   "metadata": {},
   "outputs": [],
   "source": []
  }
 ],
 "metadata": {
  "language_info": {
   "name": "python"
  }
 },
 "nbformat": 4,
 "nbformat_minor": 2
}
